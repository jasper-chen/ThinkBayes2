{
 "metadata": {
  "name": "",
  "signature": "sha256:dacd19bb0d46190eb5700eed63b9e29355e60e81ea884a57d35af0dbbdb3b7ca"
 },
 "nbformat": 3,
 "nbformat_minor": 0,
 "worksheets": [
  {
   "cells": [
    {
     "cell_type": "code",
     "collapsed": false,
     "input": [
      "import csv\n",
      "import sys\n",
      "import math\n",
      "from __future__ import division\n",
      "f = open('pingponga.csv', 'rU')\n",
      "rows = []\n",
      "try:\n",
      "    reader = csv.reader(f)\n",
      "    for row in reader:\n",
      "        rows.append(row)\n",
      "        #print row\n",
      "    #print rows\n",
      "finally:\n",
      "    f.close()"
     ],
     "language": "python",
     "metadata": {},
     "outputs": [],
     "prompt_number": 2
    },
    {
     "cell_type": "code",
     "collapsed": false,
     "input": [
      "import math\n",
      "indexes = []\n",
      "players = []\n",
      "dict = {}\n",
      "for i in range(0,len(rows)):\n",
      "    index = rows[i][0]\n",
      "    player1 = rows[i][1]\n",
      "    player2 = rows[i][2]\n",
      "    player1.replace(\" \",\"\")\n",
      "    player2.replace(\" \",\"\")\n",
      "    score1 = rows[i][3]\n",
      "    score2 = rows[i][4]\n",
      "    k = 30\n",
      "    if player1 not in players:\n",
      "        #print 'player 1 does not exist'\n",
      "        players.append(player1)\n",
      "        dict[player1] = [0,0,1200,0]\n",
      "    else:\n",
      "        pass\n",
      "    if player2 not in players:\n",
      "        #print 'player 2 does not exist'\n",
      "        players.append(player2)\n",
      "        dict[player2] = [0,0,1200,0]\n",
      "    else:\n",
      "        pass\n",
      "    if int(score1) > int(score2):\n",
      "        #player 1 wins\n",
      "        dict[player1][0] += 1\n",
      "        dict[player2][1] += 1\n",
      "        copy = dict[player1][2]\n",
      "        dict[player1][2] = math.floor(dict[player1][2] + k*(1-(1/(1+10**((dict[player2][2]-dict[player1][2])/400)))))\n",
      "        dict[player2][2] = math.floor(dict[player2][2] + k*(0-(1/(1+10**((copy-dict[player2][2])/400)))))\n",
      "        dict[player1][3] += int(score1)\n",
      "        dict[player2][3] += int(score2)\n",
      "    else:\n",
      "        #player 2 wins\n",
      "        dict[player2][0] += 1\n",
      "        dict[player1][1] += 1\n",
      "        copy = dict[player1][2]\n",
      "        dict[player1][2] = math.floor(dict[player1][2] + k*(0-(1/(1+10**((dict[player2][2]-dict[player1][2])/400)))))\n",
      "        dict[player2][2] = math.floor(dict[player2][2] + k*(1-(1/(1+10**((copy-dict[player2][2])/400)))))       \n",
      "        dict[player1][3] += int(score1)\n",
      "        dict[player2][3] += int(score2)\n",
      "    #print dict\n",
      "    #print '2'\n",
      "print dict\n",
      "\n"
     ],
     "language": "python",
     "metadata": {},
     "outputs": [
      {
       "output_type": "stream",
       "stream": "stdout",
       "text": [
        "{'Harsh': [0, 4, 1144.0, 41], 'Jishnu': [4, 1, 1239.0, 50], 'Rahil': [0, 3, 1158.0, 24], 'James': [1, 5, 1115.0, 50], 'Shane': [20, 5, 1308.0, 264], 'Brendan': [6, 4, 1208.0, 112], 'Xin': [0, 5, 1127.0, 32], 'Bill': [5, 20, 1069.0, 207], 'Josh': [4, 4, 1194.0, 76], 'Ryan': [16, 3, 1283.0, 201], 'Leo': [1, 0, 1213.0, 13], 'Daniel': [10, 9, 1186.0, 180], 'Matthew': [2, 0, 1227.0, 25], 'Ian': [2, 3, 1183.0, 41], 'Jasper': [25, 60, 1145.0, 686], 'Julian': [34, 9, 1294.0, 452], 'Paul': [6, 8, 1165.0, 141], 'Sean': [15, 8, 1196.0, 230]}\n"
       ]
      }
     ],
     "prompt_number": 23
    },
    {
     "cell_type": "code",
     "collapsed": false,
     "input": [
      "print 1/(1+10**((1145-1186)/400))\n",
      "#print 1/(1+10**((1145-1294)/400))\n",
      "print len(players)"
     ],
     "language": "python",
     "metadata": {},
     "outputs": [
      {
       "output_type": "stream",
       "stream": "stdout",
       "text": [
        "0.558731369325\n",
        "18\n"
       ]
      }
     ],
     "prompt_number": 9
    },
    {
     "cell_type": "code",
     "collapsed": false,
     "input": [
      "players[0]"
     ],
     "language": "python",
     "metadata": {},
     "outputs": [
      {
       "metadata": {},
       "output_type": "pyout",
       "prompt_number": 10,
       "text": [
        "'Jasper'"
       ]
      }
     ],
     "prompt_number": 10
    },
    {
     "cell_type": "code",
     "collapsed": false,
     "input": [
      "import thinkbayes2\n",
      "import thinkplot\n",
      "import math\n",
      "lams = []\n",
      "rankings = []\n",
      "for key, entries in dict.iteritems():\n",
      "    #print key, entries\n",
      "    total_games =  entries[0] + entries[1]\n",
      "    lam = entries[3]/total_games\n",
      "    lams.append(lam)\n",
      "    rankings.append(entries[2])\n",
      "cdf = thinkbayes2.MakeCdfFromList(lams)\n",
      "mu, var = thinkbayes2.MeanVar(lams)\n",
      "print mu,math.sqrt(var)\n",
      "a, b = thinkbayes2.MeanVar(rankings)\n",
      "#print rankings\n",
      "print a,b\n",
      "#print a, math.sqrt(b)\n",
      "\n",
      "\n",
      "    \n",
      "\n",
      "    #lam = thinkbayes2.Mean(scores)\n"
     ],
     "language": "python",
     "metadata": {},
     "outputs": [
      {
       "output_type": "stream",
       "stream": "stdout",
       "text": [
        "9.71831164589 1.60599036835\n",
        "1191.88888889 3782.7654321\n"
       ]
      }
     ],
     "prompt_number": 16
    },
    {
     "cell_type": "code",
     "collapsed": false,
     "input": [],
     "language": "python",
     "metadata": {},
     "outputs": [],
     "prompt_number": 6
    },
    {
     "cell_type": "code",
     "collapsed": false,
     "input": [],
     "language": "python",
     "metadata": {},
     "outputs": []
    }
   ],
   "metadata": {}
  }
 ]
}